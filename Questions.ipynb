{
  "cells": [
    {
      "cell_type": "code",
      "source": [
        "from google.colab import drive\n",
        "drive.mount('/content/drive')\n",
        "%cd /content/drive/MyDrive/Github/"
      ],
      "metadata": {
        "colab": {
          "base_uri": "https://localhost:8080/"
        },
        "id": "1fYggaunznQ4",
        "outputId": "0fda2f39-bc84-4310-8a85-419c8fc6a5d6"
      },
      "execution_count": 4,
      "outputs": [
        {
          "output_type": "stream",
          "name": "stdout",
          "text": [
            "Mounted at /content/drive\n",
            "/content/drive/MyDrive/Github\n"
          ]
        }
      ]
    },
    {
      "cell_type": "code",
      "source": [
        "!git clone https://<<your_github_token>>@github.com/<<your_github_username>>/questions-with-SQL"
      ],
      "metadata": {
        "colab": {
          "base_uri": "https://localhost:8080/"
        },
        "id": "KJqIGecm0Zhw",
        "outputId": "5e3cabc0-a6a2-446f-aad8-2b1a48d716b5"
      },
      "execution_count": 5,
      "outputs": [
        {
          "output_type": "stream",
          "name": "stdout",
          "text": [
            "Cloning into 'questions-with-SQL'...\n",
            "remote: Enumerating objects: 29, done.\u001b[K\n",
            "remote: Counting objects: 100% (29/29), done.\u001b[K\n",
            "remote: Compressing objects: 100% (28/28), done.\u001b[K\n",
            "remote: Total 29 (delta 9), reused 0 (delta 0), pack-reused 0\u001b[K\n",
            "Receiving objects: 100% (29/29), 724.79 KiB | 5.89 MiB/s, done.\n",
            "Resolving deltas: 100% (9/9), done.\n"
          ]
        }
      ]
    },
    {
      "cell_type": "code",
      "source": [
        "%cd questions-with-SQL"
      ],
      "metadata": {
        "colab": {
          "base_uri": "https://localhost:8080/"
        },
        "id": "SIJNuf4C04Sg",
        "outputId": "69a89a2a-6727-4e73-9380-c539ebba75b5"
      },
      "execution_count": 7,
      "outputs": [
        {
          "output_type": "stream",
          "name": "stdout",
          "text": [
            "/content/drive/MyDrive/Github/questions-with-SQL\n"
          ]
        }
      ]
    },
    {
      "cell_type": "markdown",
      "metadata": {
        "id": "lUBhqqxdy6nv"
      },
      "source": [
        "# Answering Business Questions Using SQL"
      ]
    },
    {
      "cell_type": "markdown",
      "metadata": {
        "id": "2RWmtkA2y6nx"
      },
      "source": [
        "In this guided project by Dataquest (DQ), I used SQL to answer business questions using information about a fictional digital music shop. The Chinook database contains information about the artists, songs, and albums from the music shop, as well as data on the shop's employees, customers, and the customers' purchases.\n",
        "\n",
        "The goal is to find answers and provide recommendations on the following:\n",
        "\n",
        "* Which music genres sell the most tracks in the USA?\n",
        "* What is the sales performance of the shop's employees?\n",
        "* Which countries have the potential for growth?\n",
        "* What percentage of purchases are whole albums versus individual tracks?\n",
        "* Which artist is used in most playlists?\n",
        "* How many tracks have been purchased versus not purchased?\n",
        "* Is the range of tracks in the store reflective of their sales popularity?\n",
        "* Do protected versus non-protected media types affect sales popularity?"
      ]
    },
    {
      "cell_type": "markdown",
      "metadata": {
        "id": "0hiRfT_ky6ny"
      },
      "source": [
        "## Creating Helper Functions"
      ]
    },
    {
      "cell_type": "markdown",
      "metadata": {
        "id": "K0si7Qr9y6ny"
      },
      "source": [
        "Use the helper functions\n",
        "\n",
        "`run_query()` to quickly read SQL queries into DataFrames\n",
        "\n",
        "\n",
        "`show_tables()` to return a list of all tables and views of the Chinook database, respectively."
      ]
    },
    {
      "cell_type": "code",
      "execution_count": 8,
      "metadata": {
        "colab": {
          "base_uri": "https://localhost:8080/",
          "height": 394
        },
        "id": "WkM0rj8dy6nz",
        "outputId": "6087997b-6323-4399-d00e-47d59904b5ff"
      },
      "outputs": [
        {
          "output_type": "execute_result",
          "data": {
            "text/plain": [
              "              name\n",
              "0            album\n",
              "1           artist\n",
              "2         customer\n",
              "3         employee\n",
              "4            genre\n",
              "5          invoice\n",
              "6     invoice_line\n",
              "7       media_type\n",
              "8         playlist\n",
              "9   playlist_track\n",
              "10           track"
            ],
            "text/html": [
              "\n",
              "  <div id=\"df-2b729c3d-004c-41a6-a911-74c6ad5dd4f2\" class=\"colab-df-container\">\n",
              "    <div>\n",
              "<style scoped>\n",
              "    .dataframe tbody tr th:only-of-type {\n",
              "        vertical-align: middle;\n",
              "    }\n",
              "\n",
              "    .dataframe tbody tr th {\n",
              "        vertical-align: top;\n",
              "    }\n",
              "\n",
              "    .dataframe thead th {\n",
              "        text-align: right;\n",
              "    }\n",
              "</style>\n",
              "<table border=\"1\" class=\"dataframe\">\n",
              "  <thead>\n",
              "    <tr style=\"text-align: right;\">\n",
              "      <th></th>\n",
              "      <th>name</th>\n",
              "    </tr>\n",
              "  </thead>\n",
              "  <tbody>\n",
              "    <tr>\n",
              "      <th>0</th>\n",
              "      <td>album</td>\n",
              "    </tr>\n",
              "    <tr>\n",
              "      <th>1</th>\n",
              "      <td>artist</td>\n",
              "    </tr>\n",
              "    <tr>\n",
              "      <th>2</th>\n",
              "      <td>customer</td>\n",
              "    </tr>\n",
              "    <tr>\n",
              "      <th>3</th>\n",
              "      <td>employee</td>\n",
              "    </tr>\n",
              "    <tr>\n",
              "      <th>4</th>\n",
              "      <td>genre</td>\n",
              "    </tr>\n",
              "    <tr>\n",
              "      <th>5</th>\n",
              "      <td>invoice</td>\n",
              "    </tr>\n",
              "    <tr>\n",
              "      <th>6</th>\n",
              "      <td>invoice_line</td>\n",
              "    </tr>\n",
              "    <tr>\n",
              "      <th>7</th>\n",
              "      <td>media_type</td>\n",
              "    </tr>\n",
              "    <tr>\n",
              "      <th>8</th>\n",
              "      <td>playlist</td>\n",
              "    </tr>\n",
              "    <tr>\n",
              "      <th>9</th>\n",
              "      <td>playlist_track</td>\n",
              "    </tr>\n",
              "    <tr>\n",
              "      <th>10</th>\n",
              "      <td>track</td>\n",
              "    </tr>\n",
              "  </tbody>\n",
              "</table>\n",
              "</div>\n",
              "    <div class=\"colab-df-buttons\">\n",
              "\n",
              "  <div class=\"colab-df-container\">\n",
              "    <button class=\"colab-df-convert\" onclick=\"convertToInteractive('df-2b729c3d-004c-41a6-a911-74c6ad5dd4f2')\"\n",
              "            title=\"Convert this dataframe to an interactive table.\"\n",
              "            style=\"display:none;\">\n",
              "\n",
              "  <svg xmlns=\"http://www.w3.org/2000/svg\" height=\"24px\" viewBox=\"0 -960 960 960\">\n",
              "    <path d=\"M120-120v-720h720v720H120Zm60-500h600v-160H180v160Zm220 220h160v-160H400v160Zm0 220h160v-160H400v160ZM180-400h160v-160H180v160Zm440 0h160v-160H620v160ZM180-180h160v-160H180v160Zm440 0h160v-160H620v160Z\"/>\n",
              "  </svg>\n",
              "    </button>\n",
              "\n",
              "  <style>\n",
              "    .colab-df-container {\n",
              "      display:flex;\n",
              "      gap: 12px;\n",
              "    }\n",
              "\n",
              "    .colab-df-convert {\n",
              "      background-color: #E8F0FE;\n",
              "      border: none;\n",
              "      border-radius: 50%;\n",
              "      cursor: pointer;\n",
              "      display: none;\n",
              "      fill: #1967D2;\n",
              "      height: 32px;\n",
              "      padding: 0 0 0 0;\n",
              "      width: 32px;\n",
              "    }\n",
              "\n",
              "    .colab-df-convert:hover {\n",
              "      background-color: #E2EBFA;\n",
              "      box-shadow: 0px 1px 2px rgba(60, 64, 67, 0.3), 0px 1px 3px 1px rgba(60, 64, 67, 0.15);\n",
              "      fill: #174EA6;\n",
              "    }\n",
              "\n",
              "    .colab-df-buttons div {\n",
              "      margin-bottom: 4px;\n",
              "    }\n",
              "\n",
              "    [theme=dark] .colab-df-convert {\n",
              "      background-color: #3B4455;\n",
              "      fill: #D2E3FC;\n",
              "    }\n",
              "\n",
              "    [theme=dark] .colab-df-convert:hover {\n",
              "      background-color: #434B5C;\n",
              "      box-shadow: 0px 1px 3px 1px rgba(0, 0, 0, 0.15);\n",
              "      filter: drop-shadow(0px 1px 2px rgba(0, 0, 0, 0.3));\n",
              "      fill: #FFFFFF;\n",
              "    }\n",
              "  </style>\n",
              "\n",
              "    <script>\n",
              "      const buttonEl =\n",
              "        document.querySelector('#df-2b729c3d-004c-41a6-a911-74c6ad5dd4f2 button.colab-df-convert');\n",
              "      buttonEl.style.display =\n",
              "        google.colab.kernel.accessAllowed ? 'block' : 'none';\n",
              "\n",
              "      async function convertToInteractive(key) {\n",
              "        const element = document.querySelector('#df-2b729c3d-004c-41a6-a911-74c6ad5dd4f2');\n",
              "        const dataTable =\n",
              "          await google.colab.kernel.invokeFunction('convertToInteractive',\n",
              "                                                    [key], {});\n",
              "        if (!dataTable) return;\n",
              "\n",
              "        const docLinkHtml = 'Like what you see? Visit the ' +\n",
              "          '<a target=\"_blank\" href=https://colab.research.google.com/notebooks/data_table.ipynb>data table notebook</a>'\n",
              "          + ' to learn more about interactive tables.';\n",
              "        element.innerHTML = '';\n",
              "        dataTable['output_type'] = 'display_data';\n",
              "        await google.colab.output.renderOutput(dataTable, element);\n",
              "        const docLink = document.createElement('div');\n",
              "        docLink.innerHTML = docLinkHtml;\n",
              "        element.appendChild(docLink);\n",
              "      }\n",
              "    </script>\n",
              "  </div>\n",
              "\n",
              "\n",
              "<div id=\"df-bdcc6c1e-bd26-4ca0-9ac3-ffc41b96fc75\">\n",
              "  <button class=\"colab-df-quickchart\" onclick=\"quickchart('df-bdcc6c1e-bd26-4ca0-9ac3-ffc41b96fc75')\"\n",
              "            title=\"Suggest charts\"\n",
              "            style=\"display:none;\">\n",
              "\n",
              "<svg xmlns=\"http://www.w3.org/2000/svg\" height=\"24px\"viewBox=\"0 0 24 24\"\n",
              "     width=\"24px\">\n",
              "    <g>\n",
              "        <path d=\"M19 3H5c-1.1 0-2 .9-2 2v14c0 1.1.9 2 2 2h14c1.1 0 2-.9 2-2V5c0-1.1-.9-2-2-2zM9 17H7v-7h2v7zm4 0h-2V7h2v10zm4 0h-2v-4h2v4z\"/>\n",
              "    </g>\n",
              "</svg>\n",
              "  </button>\n",
              "\n",
              "<style>\n",
              "  .colab-df-quickchart {\n",
              "      --bg-color: #E8F0FE;\n",
              "      --fill-color: #1967D2;\n",
              "      --hover-bg-color: #E2EBFA;\n",
              "      --hover-fill-color: #174EA6;\n",
              "      --disabled-fill-color: #AAA;\n",
              "      --disabled-bg-color: #DDD;\n",
              "  }\n",
              "\n",
              "  [theme=dark] .colab-df-quickchart {\n",
              "      --bg-color: #3B4455;\n",
              "      --fill-color: #D2E3FC;\n",
              "      --hover-bg-color: #434B5C;\n",
              "      --hover-fill-color: #FFFFFF;\n",
              "      --disabled-bg-color: #3B4455;\n",
              "      --disabled-fill-color: #666;\n",
              "  }\n",
              "\n",
              "  .colab-df-quickchart {\n",
              "    background-color: var(--bg-color);\n",
              "    border: none;\n",
              "    border-radius: 50%;\n",
              "    cursor: pointer;\n",
              "    display: none;\n",
              "    fill: var(--fill-color);\n",
              "    height: 32px;\n",
              "    padding: 0;\n",
              "    width: 32px;\n",
              "  }\n",
              "\n",
              "  .colab-df-quickchart:hover {\n",
              "    background-color: var(--hover-bg-color);\n",
              "    box-shadow: 0 1px 2px rgba(60, 64, 67, 0.3), 0 1px 3px 1px rgba(60, 64, 67, 0.15);\n",
              "    fill: var(--button-hover-fill-color);\n",
              "  }\n",
              "\n",
              "  .colab-df-quickchart-complete:disabled,\n",
              "  .colab-df-quickchart-complete:disabled:hover {\n",
              "    background-color: var(--disabled-bg-color);\n",
              "    fill: var(--disabled-fill-color);\n",
              "    box-shadow: none;\n",
              "  }\n",
              "\n",
              "  .colab-df-spinner {\n",
              "    border: 2px solid var(--fill-color);\n",
              "    border-color: transparent;\n",
              "    border-bottom-color: var(--fill-color);\n",
              "    animation:\n",
              "      spin 1s steps(1) infinite;\n",
              "  }\n",
              "\n",
              "  @keyframes spin {\n",
              "    0% {\n",
              "      border-color: transparent;\n",
              "      border-bottom-color: var(--fill-color);\n",
              "      border-left-color: var(--fill-color);\n",
              "    }\n",
              "    20% {\n",
              "      border-color: transparent;\n",
              "      border-left-color: var(--fill-color);\n",
              "      border-top-color: var(--fill-color);\n",
              "    }\n",
              "    30% {\n",
              "      border-color: transparent;\n",
              "      border-left-color: var(--fill-color);\n",
              "      border-top-color: var(--fill-color);\n",
              "      border-right-color: var(--fill-color);\n",
              "    }\n",
              "    40% {\n",
              "      border-color: transparent;\n",
              "      border-right-color: var(--fill-color);\n",
              "      border-top-color: var(--fill-color);\n",
              "    }\n",
              "    60% {\n",
              "      border-color: transparent;\n",
              "      border-right-color: var(--fill-color);\n",
              "    }\n",
              "    80% {\n",
              "      border-color: transparent;\n",
              "      border-right-color: var(--fill-color);\n",
              "      border-bottom-color: var(--fill-color);\n",
              "    }\n",
              "    90% {\n",
              "      border-color: transparent;\n",
              "      border-bottom-color: var(--fill-color);\n",
              "    }\n",
              "  }\n",
              "</style>\n",
              "\n",
              "  <script>\n",
              "    async function quickchart(key) {\n",
              "      const quickchartButtonEl =\n",
              "        document.querySelector('#' + key + ' button');\n",
              "      quickchartButtonEl.disabled = true;  // To prevent multiple clicks.\n",
              "      quickchartButtonEl.classList.add('colab-df-spinner');\n",
              "      try {\n",
              "        const charts = await google.colab.kernel.invokeFunction(\n",
              "            'suggestCharts', [key], {});\n",
              "      } catch (error) {\n",
              "        console.error('Error during call to suggestCharts:', error);\n",
              "      }\n",
              "      quickchartButtonEl.classList.remove('colab-df-spinner');\n",
              "      quickchartButtonEl.classList.add('colab-df-quickchart-complete');\n",
              "    }\n",
              "    (() => {\n",
              "      let quickchartButtonEl =\n",
              "        document.querySelector('#df-bdcc6c1e-bd26-4ca0-9ac3-ffc41b96fc75 button');\n",
              "      quickchartButtonEl.style.display =\n",
              "        google.colab.kernel.accessAllowed ? 'block' : 'none';\n",
              "    })();\n",
              "  </script>\n",
              "</div>\n",
              "\n",
              "    </div>\n",
              "  </div>\n"
            ],
            "application/vnd.google.colaboratory.intrinsic+json": {
              "type": "dataframe",
              "summary": "{\n  \"name\": \"show_tables()\",\n  \"rows\": 11,\n  \"fields\": [\n    {\n      \"column\": \"name\",\n      \"properties\": {\n        \"dtype\": \"string\",\n        \"num_unique_values\": 11,\n        \"samples\": [\n          \"invoice\",\n          \"album\",\n          \"playlist_track\"\n        ],\n        \"semantic_type\": \"\",\n        \"description\": \"\"\n      }\n    }\n  ]\n}"
            }
          },
          "metadata": {},
          "execution_count": 8
        }
      ],
      "source": [
        "import sqlite3\n",
        "import pandas as pd\n",
        "import numpy as np\n",
        "import matplotlib.pyplot as plt\n",
        "from matplotlib import cm\n",
        "%matplotlib inline\n",
        "\n",
        "def run_query(q):\n",
        "    with sqlite3.connect('chinook.db') as conn:\n",
        "        return pd.read_sql(q, conn)\n",
        "\n",
        "def show_tables():\n",
        "    q = '''\n",
        "    SELECT\n",
        "        name\n",
        "\n",
        "    FROM sqlite_master\n",
        "    WHERE type in (\"table\", \"view\");\n",
        "    '''\n",
        "    return run_query(q)\n",
        "\n",
        "show_tables()"
      ]
    },
    {
      "cell_type": "markdown",
      "metadata": {
        "id": "-aUP9YAEy6n0"
      },
      "source": [
        "The Chinook database contains 11 tables of data.  The tables are related according to the database schema shown below.\n",
        "\n",
        "![Chinook Schema](https://github.com/orcascope/questions-with-SQL/blob/master/chinook-schema.jpg?raw=1)"
      ]
    },
    {
      "cell_type": "markdown",
      "metadata": {
        "id": "kJxGOBSky6n1"
      },
      "source": [
        "1. Top 3 customer states in terms of  invoice total.\n",
        "2. Get just the Top 5th (not top 5) customer state in terms of number of distinct customers.\n",
        "3. Find the top Selling Music Genres in the USA"
      ]
    },
    {
      "cell_type": "markdown",
      "metadata": {
        "id": "jfWa2zgYy6n3"
      },
      "source": [
        "## Analyzing Employee Sales Performance\n",
        "1. Find the total_sales made by each employee. Print a report of emp_name, hire_date, country and total sales."
      ]
    },
    {
      "cell_type": "markdown",
      "metadata": {
        "id": "WFZM1e4zy6n4"
      },
      "source": [
        "## Analyzing Sales by Country\n",
        "Find total sales and total count of customers by country. Also find average sales by customer and average order value in each country.\n",
        "\n",
        "Average sales by customer is Total Sales/Total num of customers\n",
        "Average order value is Total Sales/Total num of invoices."
      ]
    },
    {
      "cell_type": "code",
      "execution_count": 30,
      "metadata": {
        "id": "s82Zn80Ny6n5"
      },
      "outputs": [],
      "source": [
        "# q3= '''\n",
        "# '''\n",
        "\n",
        "# run_query(q3)"
      ]
    },
    {
      "cell_type": "markdown",
      "metadata": {
        "id": "Z2PZnWi0y6n6"
      },
      "source": [
        "## Purchases of Whole Albums Versus Individual Tracks\n",
        "1. Find all the albums purchased in each of the invoice. (Customer purchased tracks, but the track belong to an album)\n",
        "\n",
        "2. Find the count of albums which were purchased in full. i.e all tracks were purchased in the same sale invoice, rather than just 1 or 2 tracks,"
      ]
    },
    {
      "cell_type": "code",
      "execution_count": 36,
      "metadata": {
        "id": "ub91RDT6y6n6"
      },
      "outputs": [],
      "source": [
        "#"
      ]
    },
    {
      "cell_type": "markdown",
      "metadata": {
        "id": "4BMnMCnry6n7"
      },
      "source": [
        "## Artist Mostly Used in Playlists\n",
        "1. Which artist is more popular in the playlists ?\n",
        "i.e Playlists are collection of tracks that were performed by Artists. Find which artist's tracks dominate the playlists\n"
      ]
    },
    {
      "cell_type": "code",
      "execution_count": null,
      "metadata": {
        "id": "WYSgoVtvy6n7",
        "outputId": "58596997-c3cb-429f-dcbc-f1fc4ddfce4e"
      },
      "outputs": [
        {
          "data": {
            "text/html": [
              "<div>\n",
              "<style scoped>\n",
              "    .dataframe tbody tr th:only-of-type {\n",
              "        vertical-align: middle;\n",
              "    }\n",
              "\n",
              "    .dataframe tbody tr th {\n",
              "        vertical-align: top;\n",
              "    }\n",
              "\n",
              "    .dataframe thead th {\n",
              "        text-align: right;\n",
              "    }\n",
              "</style>\n",
              "<table border=\"1\" class=\"dataframe\">\n",
              "  <thead>\n",
              "    <tr style=\"text-align: right;\">\n",
              "      <th></th>\n",
              "      <th>Artist</th>\n",
              "      <th>Tracks_Playlist</th>\n",
              "      <th>Percent_tracks</th>\n",
              "    </tr>\n",
              "  </thead>\n",
              "  <tbody>\n",
              "    <tr>\n",
              "      <th>0</th>\n",
              "      <td>Iron Maiden</td>\n",
              "      <td>516</td>\n",
              "      <td>5.92</td>\n",
              "    </tr>\n",
              "    <tr>\n",
              "      <th>1</th>\n",
              "      <td>U2</td>\n",
              "      <td>333</td>\n",
              "      <td>3.82</td>\n",
              "    </tr>\n",
              "    <tr>\n",
              "      <th>2</th>\n",
              "      <td>Metallica</td>\n",
              "      <td>296</td>\n",
              "      <td>3.40</td>\n",
              "    </tr>\n",
              "    <tr>\n",
              "      <th>3</th>\n",
              "      <td>Led Zeppelin</td>\n",
              "      <td>252</td>\n",
              "      <td>2.89</td>\n",
              "    </tr>\n",
              "    <tr>\n",
              "      <th>4</th>\n",
              "      <td>Deep Purple</td>\n",
              "      <td>226</td>\n",
              "      <td>2.59</td>\n",
              "    </tr>\n",
              "    <tr>\n",
              "      <th>5</th>\n",
              "      <td>Lost</td>\n",
              "      <td>184</td>\n",
              "      <td>2.11</td>\n",
              "    </tr>\n",
              "    <tr>\n",
              "      <th>6</th>\n",
              "      <td>Pearl Jam</td>\n",
              "      <td>177</td>\n",
              "      <td>2.03</td>\n",
              "    </tr>\n",
              "    <tr>\n",
              "      <th>7</th>\n",
              "      <td>Eric Clapton</td>\n",
              "      <td>145</td>\n",
              "      <td>1.66</td>\n",
              "    </tr>\n",
              "    <tr>\n",
              "      <th>8</th>\n",
              "      <td>Faith No More</td>\n",
              "      <td>145</td>\n",
              "      <td>1.66</td>\n",
              "    </tr>\n",
              "    <tr>\n",
              "      <th>9</th>\n",
              "      <td>Lenny Kravitz</td>\n",
              "      <td>143</td>\n",
              "      <td>1.64</td>\n",
              "    </tr>\n",
              "  </tbody>\n",
              "</table>\n",
              "</div>"
            ],
            "text/plain": [
              "          Artist  Tracks_Playlist  Percent_tracks\n",
              "0    Iron Maiden              516            5.92\n",
              "1             U2              333            3.82\n",
              "2      Metallica              296            3.40\n",
              "3   Led Zeppelin              252            2.89\n",
              "4    Deep Purple              226            2.59\n",
              "5           Lost              184            2.11\n",
              "6      Pearl Jam              177            2.03\n",
              "7   Eric Clapton              145            1.66\n",
              "8  Faith No More              145            1.66\n",
              "9  Lenny Kravitz              143            1.64"
            ]
          },
          "execution_count": 7,
          "metadata": {},
          "output_type": "execute_result"
        }
      ],
      "source": [
        "#"
      ]
    },
    {
      "cell_type": "markdown",
      "metadata": {
        "id": "-vBBoPHxy6n7"
      },
      "source": [
        "## Purchased versus Unpurchased Tracks\n",
        "1. Of the total tracks present in the albums,how many were purchased atleast once, and how many were never purchased."
      ]
    },
    {
      "cell_type": "code",
      "execution_count": 37,
      "metadata": {
        "id": "MeadTM4vy6n7"
      },
      "outputs": [],
      "source": [
        "#"
      ]
    },
    {
      "cell_type": "markdown",
      "metadata": {
        "id": "WDbCcW8Dy6n8"
      },
      "source": [
        "## Availability of Tracks and Sales Popularity"
      ]
    },
    {
      "cell_type": "code",
      "execution_count": null,
      "metadata": {
        "id": "tmxohdjoy6n8",
        "outputId": "59426231-f0dd-4e96-bad7-4dfd656debce"
      },
      "outputs": [
        {
          "data": {
            "image/png": "[encoded data removed]",
            "text/plain": [
              "<Figure size 432x288 with 1 Axes>"
            ]
          },
          "metadata": {
            "needs_background": "light"
          },
          "output_type": "display_data"
        }
      ],
      "source": [
        "q8 = '''\n",
        "\n",
        "WITH genre_sales AS\n",
        "    (\n",
        "    SELECT\n",
        "        g.name Genre,\n",
        "        TOTAL(il.unit_price) Sales\n",
        "    FROM invoice_line il\n",
        "    LEFT JOIN track t ON t.track_id = il.track_id\n",
        "    LEFT JOIN genre g ON g.genre_id = t.genre_id\n",
        "    GROUP BY 1\n",
        "    )\n",
        "\n",
        "SELECT\n",
        "    g.name Genre,\n",
        "    COUNT(DISTINCT t.track_id) Tracks,\n",
        "    100*CAST(COUNT(DISTINCT t.track_id) AS FLOAT) / CAST((SELECT COUNT(DISTINCT track_id) FROM track) AS FLOAT) Percent_tracks,\n",
        "    gs.Sales,\n",
        "    100*gs.Sales / (SELECT TOTAL(total) FROM invoice) Percent_sales\n",
        "FROM genre g\n",
        "INNER JOIN track t ON t.genre_id = g.genre_id\n",
        "INNER JOIN genre_sales gs ON gs.Genre = g.name\n",
        "GROUP BY 1\n",
        "ORDER BY 4 ASC\n",
        "\n",
        "'''\n",
        "\n",
        "df2 = run_query(q8)\n",
        "\n",
        "genre_tracks_sales = df2[['Genre', 'Percent_tracks', 'Percent_sales']].copy()\n",
        "\n",
        "y = np.arange(len(genre_tracks_sales['Genre']))\n",
        "width = 0.35\n",
        "\n",
        "plt.barh(y - width/2, genre_tracks_sales['Percent_tracks'], width, label='Tracks')\n",
        "plt.barh(y + width/2, genre_tracks_sales['Percent_sales'], width, label='Sales')\n",
        "\n",
        "plt.xlabel('Percent')\n",
        "plt.title('Tracks and Sales versus Genre')\n",
        "plt.yticks(y, genre_tracks_sales['Genre'])\n",
        "plt.legend(frameon=False)\n",
        "plt.gca().spines['top'].set_visible(False)\n",
        "plt.gca().spines['right'].set_visible(False)\n",
        "plt.tick_params(left=False)\n",
        "\n",
        "plt.savefig('track_sales.jpg')\n",
        "plt.show()\n"
      ]
    },
    {
      "cell_type": "markdown",
      "metadata": {
        "id": "HSz4Yylny6n8"
      },
      "source": [
        "The range of tracks in the store mostly reflects the popularity of sales. I recommend adjusting the number of available tracks under `Latin`, `R&B/Soul`, `Blues`, and `Jazz`  genres to match the observed trends in sales."
      ]
    },
    {
      "cell_type": "markdown",
      "metadata": {
        "id": "SzxqrLf-y6n9"
      },
      "source": [
        "## Media Type on Sales Popularity"
      ]
    },
    {
      "cell_type": "code",
      "execution_count": null,
      "metadata": {
        "id": "jXMX354Iy6n9",
        "outputId": "4766cf5a-2145-4c2c-e854-7e7ac1ec3e91"
      },
      "outputs": [
        {
          "data": {
            "text/html": [
              "<div>\n",
              "<style scoped>\n",
              "    .dataframe tbody tr th:only-of-type {\n",
              "        vertical-align: middle;\n",
              "    }\n",
              "\n",
              "    .dataframe tbody tr th {\n",
              "        vertical-align: top;\n",
              "    }\n",
              "\n",
              "    .dataframe thead th {\n",
              "        text-align: right;\n",
              "    }\n",
              "</style>\n",
              "<table border=\"1\" class=\"dataframe\">\n",
              "  <thead>\n",
              "    <tr style=\"text-align: right;\">\n",
              "      <th></th>\n",
              "      <th>Media_type</th>\n",
              "      <th>Total_sales</th>\n",
              "      <th>Percent_total_sales</th>\n",
              "    </tr>\n",
              "  </thead>\n",
              "  <tbody>\n",
              "    <tr>\n",
              "      <th>0</th>\n",
              "      <td>Non-protected</td>\n",
              "      <td>4274.82</td>\n",
              "      <td>90.8</td>\n",
              "    </tr>\n",
              "    <tr>\n",
              "      <th>1</th>\n",
              "      <td>Protected</td>\n",
              "      <td>434.61</td>\n",
              "      <td>9.2</td>\n",
              "    </tr>\n",
              "  </tbody>\n",
              "</table>\n",
              "</div>"
            ],
            "text/plain": [
              "      Media_type  Total_sales  Percent_total_sales\n",
              "0  Non-protected      4274.82                 90.8\n",
              "1      Protected       434.61                  9.2"
            ]
          },
          "execution_count": 10,
          "metadata": {},
          "output_type": "execute_result"
        }
      ],
      "source": [
        "q9 = '''\n",
        "\n",
        "SELECT\n",
        "    Media_type,\n",
        "    TOTAL(unit_price) Total_sales,\n",
        "    ROUND(100*TOTAL(unit_price) / (SELECT TOTAL(unit_price) FROM invoice_line), 1) Percent_total_sales\n",
        "FROM (\n",
        "    SELECT\n",
        "        il.invoice_line_id,\n",
        "        il.invoice_id,\n",
        "        il.track_id,\n",
        "        il.unit_price,\n",
        "        mt.name,\n",
        "        CASE\n",
        "            WHEN mt.name = (SELECT name FROM media_type WHERE name LIKE \"%Protected%\") THEN \"Protected\"\n",
        "            ELSE \"Non-protected\"\n",
        "            END\n",
        "        AS Media_type\n",
        "    FROM invoice_line il\n",
        "    LEFT JOIN track t ON t.track_id = il.track_id\n",
        "    INNER JOIN media_type mt ON mt.media_type_id = t.media_type_id\n",
        "    )\n",
        "GROUP BY 1\n",
        "\n",
        "'''\n",
        "run_query(q9)"
      ]
    },
    {
      "cell_type": "markdown",
      "metadata": {
        "id": "Umh-aUYay6n9"
      },
      "source": [
        "Tracks under non-protected media types account for 90% of the total sales."
      ]
    },
    {
      "cell_type": "markdown",
      "metadata": {
        "id": "_EAE1A6By6n9"
      },
      "source": [
        "## Conclusion"
      ]
    },
    {
      "cell_type": "markdown",
      "metadata": {
        "id": "s_Zzk9Thy6oB"
      },
      "source": [
        "I conclude the following from my analysis of the Chinook database:\n",
        "\n",
        "* `Rock`,  `Alternative & Punk`, `Metal`, and `R&B/Soul` are among the top-selling music genres in the USA. The addition of new albums and tracks from American artists under these genres could improve the sales performance of the store.\n",
        "* I determined the sales performance of the shop's employees. The sales performance of employees seems to depend on their hiring dates.\n",
        "* Czech Republic, United Kingdom, and India show opportunities for growth due to high average values of sales (dollars per customer) and above-average order values (dollars per invoice).\n",
        "* About 20% of total sales come from whole album purchases. The store should continue to selling individual tracks and whole albums.\n",
        "* The artist `Iron Maiden` is mostly used in the playlists.\n",
        "* About half of the available tracks in the store remain unpurchased.\n",
        "* The range of tracks in the store mostly reflects the sales performance. I suggest revising the number of tracks classified under `Latin`, `R&B/Soul`, `Blues`, and `Jazz` genres following the observed trends in sales.\n",
        "* Tracks categorized under non-protected media types significantly sell better than protected types."
      ]
    }
  ],
  "metadata": {
    "kernelspec": {
      "display_name": "Python 3",
      "language": "python",
      "name": "python3"
    },
    "language_info": {
      "codemirror_mode": {
        "name": "ipython",
        "version": 3
      },
      "file_extension": ".py",
      "mimetype": "text/x-python",
      "name": "python",
      "nbconvert_exporter": "python",
      "pygments_lexer": "ipython3",
      "version": "3.7.3"
    },
    "colab": {
      "provenance": []
    }
  },
  "nbformat": 4,
  "nbformat_minor": 0
}