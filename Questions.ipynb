{
 "cells": [
  {
   "cell_type": "markdown",
   "metadata": {},
   "source": [
    "# Answering Business Questions Using SQL"
   ]
  },
  {
   "cell_type": "markdown",
   "metadata": {},
   "source": [
    "In this guided project by Dataquest (DQ), I used SQL to answer business questions using information about a fictional digital music shop. The [Chinook database](https://github.com/lerocha/chinook-database) contains information about the artists, songs, and albums from the music shop, as well as data on the shop's employees, customers, and the customers' purchases.\n",
    "\n",
    "My goal in this project is to find answers and provide recommendations on the following:\n",
    "\n",
    "* Which music genres sell the most tracks in the USA?\n",
    "* What is the sales performance of the shop's employees?\n",
    "* Which countries have the potential for growth?\n",
    "* What percentage of purchases are whole albums versus individual tracks?\n",
    "* Which artist is used in most playlists?\n",
    "* How many tracks have been purchased versus not purchased?\n",
    "* Is the range of tracks in the store reflective of their sales popularity?\n",
    "* Do protected versus non-protected media types affect sales popularity?"
   ]
  },
  {
   "cell_type": "markdown",
   "metadata": {},
   "source": [
    "## Creating Helper Functions"
   ]
  },
  {
   "cell_type": "markdown",
   "metadata": {},
   "source": [
    "I first created the helper functions `run_query()` and `show_tables()` to quickly read SQL queries into DataFrames and return a list of all tables and views of the Chinook database, respectively. "
   ]
  },
  {
   "cell_type": "code",
   "execution_count": 1,
   "metadata": {},
   "outputs": [
    {
     "data": {
      "text/html": [
       "<div>\n",
       "<style scoped>\n",
       "    .dataframe tbody tr th:only-of-type {\n",
       "        vertical-align: middle;\n",
       "    }\n",
       "\n",
       "    .dataframe tbody tr th {\n",
       "        vertical-align: top;\n",
       "    }\n",
       "\n",
       "    .dataframe thead th {\n",
       "        text-align: right;\n",
       "    }\n",
       "</style>\n",
       "<table border=\"1\" class=\"dataframe\">\n",
       "  <thead>\n",
       "    <tr style=\"text-align: right;\">\n",
       "      <th></th>\n",
       "      <th>name</th>\n",
       "      <th>type</th>\n",
       "    </tr>\n",
       "  </thead>\n",
       "  <tbody>\n",
       "    <tr>\n",
       "      <th>0</th>\n",
       "      <td>album</td>\n",
       "      <td>table</td>\n",
       "    </tr>\n",
       "    <tr>\n",
       "      <th>1</th>\n",
       "      <td>artist</td>\n",
       "      <td>table</td>\n",
       "    </tr>\n",
       "    <tr>\n",
       "      <th>2</th>\n",
       "      <td>customer</td>\n",
       "      <td>table</td>\n",
       "    </tr>\n",
       "    <tr>\n",
       "      <th>3</th>\n",
       "      <td>employee</td>\n",
       "      <td>table</td>\n",
       "    </tr>\n",
       "    <tr>\n",
       "      <th>4</th>\n",
       "      <td>genre</td>\n",
       "      <td>table</td>\n",
       "    </tr>\n",
       "    <tr>\n",
       "      <th>5</th>\n",
       "      <td>invoice</td>\n",
       "      <td>table</td>\n",
       "    </tr>\n",
       "    <tr>\n",
       "      <th>6</th>\n",
       "      <td>invoice_line</td>\n",
       "      <td>table</td>\n",
       "    </tr>\n",
       "    <tr>\n",
       "      <th>7</th>\n",
       "      <td>media_type</td>\n",
       "      <td>table</td>\n",
       "    </tr>\n",
       "    <tr>\n",
       "      <th>8</th>\n",
       "      <td>playlist</td>\n",
       "      <td>table</td>\n",
       "    </tr>\n",
       "    <tr>\n",
       "      <th>9</th>\n",
       "      <td>playlist_track</td>\n",
       "      <td>table</td>\n",
       "    </tr>\n",
       "    <tr>\n",
       "      <th>10</th>\n",
       "      <td>track</td>\n",
       "      <td>table</td>\n",
       "    </tr>\n",
       "  </tbody>\n",
       "</table>\n",
       "</div>"
      ],
      "text/plain": [
       "              name   type\n",
       "0            album  table\n",
       "1           artist  table\n",
       "2         customer  table\n",
       "3         employee  table\n",
       "4            genre  table\n",
       "5          invoice  table\n",
       "6     invoice_line  table\n",
       "7       media_type  table\n",
       "8         playlist  table\n",
       "9   playlist_track  table\n",
       "10           track  table"
      ]
     },
     "execution_count": 1,
     "metadata": {},
     "output_type": "execute_result"
    }
   ],
   "source": [
    "import sqlite3\n",
    "import pandas as pd\n",
    "import numpy as np\n",
    "import matplotlib.pyplot as plt\n",
    "from matplotlib import cm\n",
    "%matplotlib inline\n",
    "\n",
    "def run_query(q):\n",
    "    with sqlite3.connect('chinook.db') as conn:\n",
    "        return pd.read_sql(q, conn)\n",
    "        \n",
    "def show_tables():\n",
    "    q = '''\n",
    "    SELECT\n",
    "        name,\n",
    "        type\n",
    "    FROM sqlite_master\n",
    "    WHERE type in (\"table\", \"view\");\n",
    "    '''\n",
    "    return run_query(q)\n",
    "\n",
    "show_tables()"
   ]
  },
  {
   "cell_type": "markdown",
   "metadata": {},
   "source": [
    "The Chinook database contains 11 tables of data.  The tables are related according to the database schema shown below.\n",
    "\n",
    "![Chinook Schema](chinook-schema.jpg)"
   ]
  },
  {
   "cell_type": "markdown",
   "metadata": {},
   "source": [
    "## Top Selling Music Genres in the USA"
   ]
  },
  {
   "cell_type": "code",
   "execution_count": 2,
   "metadata": {},
   "outputs": [
    {
     "data": {
      "image/png": "[encoded data removed]",
      "text/plain": [
       "<Figure size 432x288 with 1 Axes>"
      ]
     },
     "metadata": {
      "needs_background": "light"
     },
     "output_type": "display_data"
    }
   ],
   "source": [
    "q1 = '''\n",
    "\n",
    "WITH \n",
    "    usa_genre_tracks AS\n",
    "    (\n",
    "    SELECT\n",
    "        g.name Genre,\n",
    "        COUNT(g.name) Tracks_sold\n",
    "    FROM customer c\n",
    "    INNER JOIN invoice i ON i.customer_id = c.customer_id\n",
    "    INNER JOIN invoice_line il ON il.invoice_id = i.invoice_id\n",
    "    INNER JOIN track t ON t.track_id = il.track_id\n",
    "    INNER JOIN genre g ON g.genre_id = t.genre_id\n",
    "    WHERE c.country = \"USA\"\n",
    "    GROUP BY 1\n",
    "    ORDER BY 2 DESC\n",
    "    )\n",
    "    \n",
    "SELECT\n",
    "    ugt.*,\n",
    "    ROUND((CAST(ugt.Tracks_sold as FLOAT) / (\n",
    "                                            SELECT SUM(ugt.Tracks_sold) \n",
    "                                            FROM usa_genre_tracks ugt)\n",
    "                                            )*100, 2) Percent_sold\n",
    "FROM usa_genre_tracks ugt\n",
    "'''\n",
    "\n",
    "usa_genre_tracks = run_query(q1)\n",
    "\n",
    "ax = usa_genre_tracks[0:10].plot.barh(\n",
    "    title='Top Selling Genres in the USA',\n",
    "    xlim=(0, 650),\n",
    "    x='Genre',\n",
    "    y='Tracks_sold',\n",
    "    legend=False,\n",
    "    width=0.8,\n",
    "    colormap=cm.Dark2\n",
    ")\n",
    "\n",
    "ax.set_ylabel(' ')\n",
    "ax.set_xlabel('Number of tracks sold')\n",
    "ax.spines['right'].set_visible(False)\n",
    "ax.spines['top'].set_visible(False)\n",
    "ax.tick_params(left=False)\n",
    "\n",
    "for count in range(10):\n",
    "    x_coor = usa_genre_tracks['Tracks_sold'][count]\n",
    "    text = usa_genre_tracks['Percent_sold'][count].astype(int).astype(str) + '%'\n",
    "    ax.annotate(s=text, xy=(x_coor+10,count-0.15))\n",
    "\n",
    "plt.savefig('top_genres.jpg')\n",
    "plt.show()"
   ]
  },
  {
   "cell_type": "markdown",
   "metadata": {},
   "source": [
    "Based on the number of tracks sold across different genres in the USA, `Rock` is the top selling genre, followed by `Alternative & Punk`, `Metal`, and `R&B/Soul`. With knowlege of the top-selling genres, new albums by American artists from a record label can be added to the music shop. "
   ]
  },
  {
   "cell_type": "markdown",
   "metadata": {},
   "source": [
    "## Analyzing Employee Sales Performance"
   ]
  },
  {
   "cell_type": "code",
   "execution_count": 3,
   "metadata": {},
   "outputs": [
    {
     "name": "stdout",
     "output_type": "stream",
     "text": [
      "  Sales_support_agent            hire_date country  Total_sales_$\n",
      "0        Jane Peacock  2017-04-01 00:00:00  Canada        1731.51\n",
      "1       Margaret Park  2017-05-03 00:00:00  Canada        1584.00\n",
      "2       Steve Johnson  2017-10-17 00:00:00  Canada        1393.92\n"
     ]
    },
    {
     "data": {
      "image/png": "[encoded data removed]",
      "text/plain": [
       "<Figure size 432x288 with 1 Axes>"
      ]
     },
     "metadata": {
      "needs_background": "light"
     },
     "output_type": "display_data"
    }
   ],
   "source": [
    "q2 = '''\n",
    "\n",
    "SELECT\n",
    "    e.first_name || \" \" || e.last_name Sales_support_agent,\n",
    "    e.hire_date,\n",
    "    e.country,\n",
    "    SUM(i.total) Total_sales_$\n",
    "FROM employee e\n",
    "INNER JOIN customer c ON c.support_rep_id = e.employee_id\n",
    "INNER JOIN invoice i ON i.customer_id = c.customer_id\n",
    "GROUP BY 1\n",
    "'''\n",
    "\n",
    "employee_sales = run_query(q2)\n",
    "print(employee_sales)\n",
    "employee_sales.sort_values(by='Total_sales_$', inplace=True)\n",
    "ax = employee_sales.plot.barh(\n",
    "                            x='Sales_support_agent', \n",
    "                            y='Total_sales_$',\n",
    "                            legend=False,\n",
    "                            title='Sales Breakdown by Employee',\n",
    "                            colormap=plt.cm.Set2\n",
    "                            )\n",
    "ax.set_ylabel(' ')\n",
    "ax.set_xlabel('Total sales, dollars')\n",
    "ax.spines['right'].set_visible(False)\n",
    "ax.spines['top'].set_visible(False)\n",
    "ax.tick_params(left=False)\n",
    "ax.set_xlim(left=1200)\n",
    "plt.show()\n"
   ]
  },
  {
   "cell_type": "markdown",
   "metadata": {},
   "source": [
    "In terms of total dollar sales, Jane Peacock is the top employee. The difference in sales between employees corresponds with the difference in their hiring dates. "
   ]
  },
  {
   "cell_type": "markdown",
   "metadata": {},
   "source": [
    "## Analyzing Sales by Country"
   ]
  },
  {
   "cell_type": "code",
   "execution_count": 4,
   "metadata": {},
   "outputs": [
    {
     "data": {
      "text/html": [
       "<div>\n",
       "<style scoped>\n",
       "    .dataframe tbody tr th:only-of-type {\n",
       "        vertical-align: middle;\n",
       "    }\n",
       "\n",
       "    .dataframe tbody tr th {\n",
       "        vertical-align: top;\n",
       "    }\n",
       "\n",
       "    .dataframe thead th {\n",
       "        text-align: right;\n",
       "    }\n",
       "</style>\n",
       "<table border=\"1\" class=\"dataframe\">\n",
       "  <thead>\n",
       "    <tr style=\"text-align: right;\">\n",
       "      <th></th>\n",
       "      <th>Country</th>\n",
       "      <th>Customers</th>\n",
       "      <th>Total_sales</th>\n",
       "      <th>Average_value_of_sales</th>\n",
       "      <th>Average_order_value</th>\n",
       "    </tr>\n",
       "  </thead>\n",
       "  <tbody>\n",
       "    <tr>\n",
       "      <th>0</th>\n",
       "      <td>USA</td>\n",
       "      <td>13</td>\n",
       "      <td>1040.49</td>\n",
       "      <td>80.04</td>\n",
       "      <td>7.94</td>\n",
       "    </tr>\n",
       "    <tr>\n",
       "      <th>1</th>\n",
       "      <td>Canada</td>\n",
       "      <td>8</td>\n",
       "      <td>535.59</td>\n",
       "      <td>66.95</td>\n",
       "      <td>7.05</td>\n",
       "    </tr>\n",
       "    <tr>\n",
       "      <th>2</th>\n",
       "      <td>Brazil</td>\n",
       "      <td>5</td>\n",
       "      <td>427.68</td>\n",
       "      <td>85.54</td>\n",
       "      <td>7.01</td>\n",
       "    </tr>\n",
       "    <tr>\n",
       "      <th>3</th>\n",
       "      <td>France</td>\n",
       "      <td>5</td>\n",
       "      <td>389.07</td>\n",
       "      <td>77.81</td>\n",
       "      <td>7.78</td>\n",
       "    </tr>\n",
       "    <tr>\n",
       "      <th>4</th>\n",
       "      <td>Germany</td>\n",
       "      <td>4</td>\n",
       "      <td>334.62</td>\n",
       "      <td>83.66</td>\n",
       "      <td>8.16</td>\n",
       "    </tr>\n",
       "    <tr>\n",
       "      <th>5</th>\n",
       "      <td>Czech Republic</td>\n",
       "      <td>2</td>\n",
       "      <td>273.24</td>\n",
       "      <td>136.62</td>\n",
       "      <td>9.11</td>\n",
       "    </tr>\n",
       "    <tr>\n",
       "      <th>6</th>\n",
       "      <td>United Kingdom</td>\n",
       "      <td>3</td>\n",
       "      <td>245.52</td>\n",
       "      <td>81.84</td>\n",
       "      <td>8.77</td>\n",
       "    </tr>\n",
       "    <tr>\n",
       "      <th>7</th>\n",
       "      <td>Portugal</td>\n",
       "      <td>2</td>\n",
       "      <td>185.13</td>\n",
       "      <td>92.57</td>\n",
       "      <td>6.38</td>\n",
       "    </tr>\n",
       "    <tr>\n",
       "      <th>8</th>\n",
       "      <td>India</td>\n",
       "      <td>2</td>\n",
       "      <td>183.15</td>\n",
       "      <td>91.58</td>\n",
       "      <td>8.72</td>\n",
       "    </tr>\n",
       "    <tr>\n",
       "      <th>9</th>\n",
       "      <td>Other</td>\n",
       "      <td>15</td>\n",
       "      <td>1094.94</td>\n",
       "      <td>73.00</td>\n",
       "      <td>7.45</td>\n",
       "    </tr>\n",
       "  </tbody>\n",
       "</table>\n",
       "</div>"
      ],
      "text/plain": [
       "          Country  Customers  Total_sales  Average_value_of_sales  \\\n",
       "0             USA         13      1040.49                   80.04   \n",
       "1          Canada          8       535.59                   66.95   \n",
       "2          Brazil          5       427.68                   85.54   \n",
       "3          France          5       389.07                   77.81   \n",
       "4         Germany          4       334.62                   83.66   \n",
       "5  Czech Republic          2       273.24                  136.62   \n",
       "6  United Kingdom          3       245.52                   81.84   \n",
       "7        Portugal          2       185.13                   92.57   \n",
       "8           India          2       183.15                   91.58   \n",
       "9           Other         15      1094.94                   73.00   \n",
       "\n",
       "   Average_order_value  \n",
       "0                 7.94  \n",
       "1                 7.05  \n",
       "2                 7.01  \n",
       "3                 7.78  \n",
       "4                 8.16  \n",
       "5                 9.11  \n",
       "6                 8.77  \n",
       "7                 6.38  \n",
       "8                 8.72  \n",
       "9                 7.45  "
      ]
     },
     "execution_count": 4,
     "metadata": {},
     "output_type": "execute_result"
    }
   ],
   "source": [
    "q3 = '''\n",
    "\n",
    "WITH country_sales AS\n",
    "    (\n",
    "    SELECT\n",
    "        CASE\n",
    "            WHEN (\n",
    "                 SELECT COUNT(DISTINCT c.customer_id)\n",
    "                 FROM customer\n",
    "                 WHERE country = c.country\n",
    "                 ) = 1 THEN \"Other\"\n",
    "            ELSE c.country\n",
    "            END\n",
    "        AS Country,\n",
    "        COUNT(DISTINCT c.customer_id) Customers,\n",
    "        COUNT(DISTINCT i.invoice_id) Invoices,\n",
    "        TOTAL(i.total) Total_sales\n",
    "    FROM customer c\n",
    "    INNER JOIN invoice i ON i.customer_id = c.customer_id\n",
    "    GROUP BY Country\n",
    "    )\n",
    "\n",
    "SELECT\n",
    "    Country,\n",
    "    SUM(Customers) Customers,\n",
    "    TOTAL(Total_sales) Total_sales,\n",
    "    ROUND(TOTAL(Total_sales) / SUM(Customers), 2) Average_value_of_sales,\n",
    "    ROUND(TOTAL(Total_sales) / SUM(Invoices), 2) Average_order_value\n",
    "FROM \n",
    "    (\n",
    "    SELECT \n",
    "        cs.*,\n",
    "        CASE\n",
    "            WHEN cs.Country = \"Other\" THEN 1\n",
    "            ELSE 0\n",
    "            END \n",
    "        AS sort\n",
    "    FROM country_sales cs\n",
    "    )\n",
    "GROUP BY 1\n",
    "ORDER BY sort ASC, 3 DESC\n",
    "\n",
    "'''\n",
    "\n",
    "run_query(q3)"
   ]
  },
  {
   "cell_type": "markdown",
   "metadata": {},
   "source": [
    "Results of the data analysis show USA has the most number of customers and amount of sales. Meanwhile, Czech Republic has the highest average value of sales (dollar per customer) and average order value (dollar per invoice).  "
   ]
  },
  {
   "cell_type": "code",
   "execution_count": 5,
   "metadata": {},
   "outputs": [
    {
     "data": {
      "image/png": "[encoded data removed]",
      "text/plain": [
       "<Figure size 864x720 with 4 Axes>"
      ]
     },
     "metadata": {
      "needs_background": "light"
     },
     "output_type": "display_data"
    }
   ],
   "source": [
    "df = run_query(q3)\n",
    "\n",
    "fig, axs = plt.subplots(2,2, figsize=(12, 10))\n",
    "fig.subplots_adjust(hspace=.6, wspace=.3)\n",
    "\n",
    "# Sales Breakdown by Country \n",
    "axs[0,0].pie(\n",
    "    df['Total_sales'], \n",
    "    labels=df['Country'],\n",
    "    startangle=-90,\n",
    "    counterclock=False,\n",
    "    textprops={'size': 8},\n",
    "    wedgeprops={'linewidth':0},\n",
    "    colors=cm.tab20c(np.linspace(0,1,10))\n",
    ")\n",
    "axs[0,0].set_title('Sales Breakdown by Country')\n",
    "\n",
    "\n",
    "# Percent Customers vs Sales\n",
    "df_cust_sales = df[['Customers', 'Total_sales']].copy()\n",
    "df_cust_sales['Customers'] /= df_cust_sales['Customers'].sum()/100\n",
    "df_cust_sales['Total_sales'] /= df_cust_sales['Total_sales'].sum()/100\n",
    "x = np.arange(len(df['Country']))\n",
    "width = 0.35\n",
    "\n",
    "axs[0,1].bar(x - width/2, df_cust_sales['Customers'], width, label='Customers')\n",
    "axs[0,1].bar(x + width/2, df_cust_sales['Total_sales'], width, label='Total sales')\n",
    "\n",
    "axs[0,1].set_ylabel('Percent')\n",
    "axs[0,1].set_title('Percent Customers vs Sales')\n",
    "axs[0,1].set_xticks(x)\n",
    "axs[0,1].set_xticklabels(df['Country'], rotation='vertical')\n",
    "axs[0,1].legend(frameon=False)\n",
    "axs[0,1].spines['right'].set_visible(False)\n",
    "axs[0,1].spines['top'].set_visible(False)\n",
    "axs[0,1].tick_params(bottom=False)\n",
    "\n",
    "\n",
    "# Average Value of Sales\n",
    "axs[1,0].bar(x, df['Average_value_of_sales'], color=cm.Paired(.5))\n",
    "axs[1,0].set_ylabel('Dollars Per Customer')\n",
    "axs[1,0].set_title('Average Value of Sales')\n",
    "axs[1,0].set_xticks(x)\n",
    "axs[1,0].set_xticklabels(df['Country'], rotation='vertical')\n",
    "axs[1,0].spines['right'].set_visible(False)\n",
    "axs[1,0].spines['top'].set_visible(False)\n",
    "axs[1,0].tick_params(bottom=False)\n",
    "axs[1,0].set_xlim(right=8.5)\n",
    "\n",
    "\n",
    "# Percent Difference of Average Order Value from Mean\n",
    "df_avg_order = df['Average_order_value'].copy()\n",
    "df_avg_order = 100*(df_avg_order/df_avg_order.mean()) - 100 \n",
    "\n",
    "axs[1,1].bar(x, df_avg_order, color=cm.Accent(.7))\n",
    "axs[1,1].set_ylabel('Dollars Per Invoice')\n",
    "axs[1,1].set_title('Percent Difference of Average Order from Mean')\n",
    "axs[1,1].set_xticks(x)\n",
    "axs[1,1].set_xticklabels(df['Country'], rotation='vertical')\n",
    "axs[1,1].spines['right'].set_visible(False)\n",
    "axs[1,1].spines['top'].set_visible(False)\n",
    "axs[1,1].tick_params(bottom=False)\n",
    "axs[1,1].set_xlim(right=8.5)\n",
    "\n",
    "plt.savefig('sales_country.jpg')\n",
    "plt.show()"
   ]
  },
  {
   "cell_type": "markdown",
   "metadata": {},
   "source": [
    "Looking at the average value of sales and percent difference of average order from the mean, there maybe potential for growth in the following countries:\n",
    "* Czech Republic\n",
    "* United Kingdom\n",
    "* India\n",
    "\n",
    "Due to the low amount of data involved in the analysis, small campaigns can be run in these countries to analyze information about new customers and sales and confirm these trends. "
   ]
  },
  {
   "cell_type": "markdown",
   "metadata": {},
   "source": [
    "## Purchases of Whole Albums Versus Individual Tracks"
   ]
  },
  {
   "cell_type": "code",
   "execution_count": 6,
   "metadata": {},
   "outputs": [
    {
     "data": {
      "text/html": [
       "<div>\n",
       "<style scoped>\n",
       "    .dataframe tbody tr th:only-of-type {\n",
       "        vertical-align: middle;\n",
       "    }\n",
       "\n",
       "    .dataframe tbody tr th {\n",
       "        vertical-align: top;\n",
       "    }\n",
       "\n",
       "    .dataframe thead th {\n",
       "        text-align: right;\n",
       "    }\n",
       "</style>\n",
       "<table border=\"1\" class=\"dataframe\">\n",
       "  <thead>\n",
       "    <tr style=\"text-align: right;\">\n",
       "      <th></th>\n",
       "      <th>Total_invoice</th>\n",
       "      <th>Invoice_Album_Purchase</th>\n",
       "      <th>Percent_Album_Purchase</th>\n",
       "    </tr>\n",
       "  </thead>\n",
       "  <tbody>\n",
       "    <tr>\n",
       "      <th>0</th>\n",
       "      <td>614</td>\n",
       "      <td>114</td>\n",
       "      <td>18.6</td>\n",
       "    </tr>\n",
       "  </tbody>\n",
       "</table>\n",
       "</div>"
      ],
      "text/plain": [
       "   Total_invoice  Invoice_Album_Purchase  Percent_Album_Purchase\n",
       "0            614                     114                    18.6"
      ]
     },
     "execution_count": 6,
     "metadata": {},
     "output_type": "execute_result"
    }
   ],
   "source": [
    "q4 = '''\n",
    "\n",
    "WITH invoice_track_album AS\n",
    "    (\n",
    "    SELECT\n",
    "        il.invoice_id,\n",
    "        max(il.track_id) max_track_id,\n",
    "        t.album_id\n",
    "    FROM invoice_line il\n",
    "    INNER JOIN track t ON t.track_id = il.track_id\n",
    "    GROUP BY 1\n",
    "    )\n",
    "\n",
    "SELECT\n",
    "    COUNT(*) Total_invoice,\n",
    "    SUM(Album_purchase) Invoice_Album_Purchase,\n",
    "    ROUND((CAST(SUM(Album_purchase) AS FLOAT) / CAST(COUNT(*) AS FLOAT))*100, 1) Percent_Album_Purchase\n",
    "FROM (\n",
    "    SELECT\n",
    "        ita.*,\n",
    "        CASE\n",
    "            WHEN (\n",
    "            \n",
    "                (\n",
    "                SELECT t.track_id FROM track t WHERE t.album_id = ita.album_id\n",
    "                EXCEPT\n",
    "                SELECT il.track_id FROM invoice_line il WHERE il.invoice_id = ita.invoice_id\n",
    "                ) IS NULL\n",
    "                \n",
    "                AND\n",
    "                \n",
    "                (\n",
    "                SELECT il.track_id FROM invoice_line il WHERE il.invoice_id = ita.invoice_id\n",
    "                EXCEPT\n",
    "                SELECT t.track_id FROM track t WHERE t.album_id = ita.album_id\n",
    "                ) IS NULL\n",
    "                \n",
    "                ) THEN 1\n",
    "            ELSE 0\n",
    "            END \n",
    "        AS Album_purchase\n",
    "    FROM invoice_track_album ita\n",
    "    )\n",
    "\n",
    "'''\n",
    "\n",
    "run_query(q4)"
   ]
  },
  {
   "cell_type": "markdown",
   "metadata": {},
   "source": [
    "Purchases of whole albums account for 18.6% of total purchases. While the store could use the strategy of purchasing only the most popular tracks from each album from record companies instead of purchasing every track from an album, the store could lose about 20% of its total revenue. "
   ]
  },
  {
   "cell_type": "markdown",
   "metadata": {},
   "source": [
    "## Artist Mostly Used in Playlists"
   ]
  },
  {
   "cell_type": "code",
   "execution_count": 7,
   "metadata": {},
   "outputs": [
    {
     "data": {
      "text/html": [
       "<div>\n",
       "<style scoped>\n",
       "    .dataframe tbody tr th:only-of-type {\n",
       "        vertical-align: middle;\n",
       "    }\n",
       "\n",
       "    .dataframe tbody tr th {\n",
       "        vertical-align: top;\n",
       "    }\n",
       "\n",
       "    .dataframe thead th {\n",
       "        text-align: right;\n",
       "    }\n",
       "</style>\n",
       "<table border=\"1\" class=\"dataframe\">\n",
       "  <thead>\n",
       "    <tr style=\"text-align: right;\">\n",
       "      <th></th>\n",
       "      <th>Artist</th>\n",
       "      <th>Tracks_Playlist</th>\n",
       "      <th>Percent_tracks</th>\n",
       "    </tr>\n",
       "  </thead>\n",
       "  <tbody>\n",
       "    <tr>\n",
       "      <th>0</th>\n",
       "      <td>Iron Maiden</td>\n",
       "      <td>516</td>\n",
       "      <td>5.92</td>\n",
       "    </tr>\n",
       "    <tr>\n",
       "      <th>1</th>\n",
       "      <td>U2</td>\n",
       "      <td>333</td>\n",
       "      <td>3.82</td>\n",
       "    </tr>\n",
       "    <tr>\n",
       "      <th>2</th>\n",
       "      <td>Metallica</td>\n",
       "      <td>296</td>\n",
       "      <td>3.40</td>\n",
       "    </tr>\n",
       "    <tr>\n",
       "      <th>3</th>\n",
       "      <td>Led Zeppelin</td>\n",
       "      <td>252</td>\n",
       "      <td>2.89</td>\n",
       "    </tr>\n",
       "    <tr>\n",
       "      <th>4</th>\n",
       "      <td>Deep Purple</td>\n",
       "      <td>226</td>\n",
       "      <td>2.59</td>\n",
       "    </tr>\n",
       "    <tr>\n",
       "      <th>5</th>\n",
       "      <td>Lost</td>\n",
       "      <td>184</td>\n",
       "      <td>2.11</td>\n",
       "    </tr>\n",
       "    <tr>\n",
       "      <th>6</th>\n",
       "      <td>Pearl Jam</td>\n",
       "      <td>177</td>\n",
       "      <td>2.03</td>\n",
       "    </tr>\n",
       "    <tr>\n",
       "      <th>7</th>\n",
       "      <td>Eric Clapton</td>\n",
       "      <td>145</td>\n",
       "      <td>1.66</td>\n",
       "    </tr>\n",
       "    <tr>\n",
       "      <th>8</th>\n",
       "      <td>Faith No More</td>\n",
       "      <td>145</td>\n",
       "      <td>1.66</td>\n",
       "    </tr>\n",
       "    <tr>\n",
       "      <th>9</th>\n",
       "      <td>Lenny Kravitz</td>\n",
       "      <td>143</td>\n",
       "      <td>1.64</td>\n",
       "    </tr>\n",
       "  </tbody>\n",
       "</table>\n",
       "</div>"
      ],
      "text/plain": [
       "          Artist  Tracks_Playlist  Percent_tracks\n",
       "0    Iron Maiden              516            5.92\n",
       "1             U2              333            3.82\n",
       "2      Metallica              296            3.40\n",
       "3   Led Zeppelin              252            2.89\n",
       "4    Deep Purple              226            2.59\n",
       "5           Lost              184            2.11\n",
       "6      Pearl Jam              177            2.03\n",
       "7   Eric Clapton              145            1.66\n",
       "8  Faith No More              145            1.66\n",
       "9  Lenny Kravitz              143            1.64"
      ]
     },
     "execution_count": 7,
     "metadata": {},
     "output_type": "execute_result"
    }
   ],
   "source": [
    "q6 = '''\n",
    "\n",
    "SELECT\n",
    "    ar.name Artist,\n",
    "    COUNT(ar.name) Tracks_Playlist,\n",
    "    ROUND((CAST(COUNT(ar.name) AS FLOAT) / CAST((SELECT COUNT(*) FROM playlist_track) AS FLOAT))*100,2) Percent_tracks\n",
    "FROM playlist_track pt\n",
    "INNER JOIN track t ON t.track_id = pt.track_id\n",
    "INNER JOIN album al ON al.album_id = t.album_id\n",
    "INNER JOIN artist ar ON ar.artist_id = al.artist_id\n",
    "GROUP BY 1\n",
    "ORDER BY 2 DESC\n",
    "LIMIT 10 \n",
    "\n",
    "'''\n",
    "\n",
    "run_query(q6)"
   ]
  },
  {
   "cell_type": "markdown",
   "metadata": {},
   "source": [
    "The artist `Iron Maiden` is mostly used in the playlists. "
   ]
  },
  {
   "cell_type": "markdown",
   "metadata": {},
   "source": [
    "## Purchased versus Unpurchased Tracks"
   ]
  },
  {
   "cell_type": "code",
   "execution_count": 8,
   "metadata": {},
   "outputs": [
    {
     "data": {
      "text/html": [
       "<div>\n",
       "<style scoped>\n",
       "    .dataframe tbody tr th:only-of-type {\n",
       "        vertical-align: middle;\n",
       "    }\n",
       "\n",
       "    .dataframe tbody tr th {\n",
       "        vertical-align: top;\n",
       "    }\n",
       "\n",
       "    .dataframe thead th {\n",
       "        text-align: right;\n",
       "    }\n",
       "</style>\n",
       "<table border=\"1\" class=\"dataframe\">\n",
       "  <thead>\n",
       "    <tr style=\"text-align: right;\">\n",
       "      <th></th>\n",
       "      <th>Total_tracks</th>\n",
       "      <th>Purchased_tracks</th>\n",
       "      <th>Unpurchased_tracks</th>\n",
       "      <th>Percent_unpurchased</th>\n",
       "    </tr>\n",
       "  </thead>\n",
       "  <tbody>\n",
       "    <tr>\n",
       "      <th>0</th>\n",
       "      <td>3503</td>\n",
       "      <td>1806</td>\n",
       "      <td>1697</td>\n",
       "      <td>48.4</td>\n",
       "    </tr>\n",
       "  </tbody>\n",
       "</table>\n",
       "</div>"
      ],
      "text/plain": [
       "   Total_tracks  Purchased_tracks  Unpurchased_tracks  Percent_unpurchased\n",
       "0          3503              1806                1697                 48.4"
      ]
     },
     "execution_count": 8,
     "metadata": {},
     "output_type": "execute_result"
    }
   ],
   "source": [
    "q7 = '''\n",
    "\n",
    "SELECT\n",
    "    (SELECT COUNT(DISTINCT track_id) FROM track) Total_tracks,\n",
    "    (SELECT COUNT(DISTINCT track_id) FROM invoice_line) Purchased_tracks,\n",
    "    COUNT(track_id) Unpurchased_tracks,\n",
    "    ROUND(100*CAST(COUNT(track_id) AS FLOAT) / CAST((SELECT COUNT(DISTINCT track_id) FROM track) AS FLOAT), 1) Percent_unpurchased\n",
    "    \n",
    "FROM (\n",
    "    SELECT track_id FROM track\n",
    "    EXCEPT\n",
    "    SELECT track_id FROM invoice_line\n",
    "    )\n",
    "\n",
    "'''\n",
    "\n",
    "run_query(q7)"
   ]
  },
  {
   "cell_type": "markdown",
   "metadata": {},
   "source": [
    "About half of the listed tracks in the store remain unpurchased. "
   ]
  },
  {
   "cell_type": "markdown",
   "metadata": {},
   "source": [
    "## Availability of Tracks and Sales Popularity"
   ]
  },
  {
   "cell_type": "code",
   "execution_count": 9,
   "metadata": {},
   "outputs": [
    {
     "data": {
      "image/png": "[encoded data removed]",
      "text/plain": [
       "<Figure size 432x288 with 1 Axes>"
      ]
     },
     "metadata": {
      "needs_background": "light"
     },
     "output_type": "display_data"
    }
   ],
   "source": [
    "q8 = '''\n",
    "\n",
    "WITH genre_sales AS\n",
    "    (\n",
    "    SELECT\n",
    "        g.name Genre,\n",
    "        TOTAL(il.unit_price) Sales\n",
    "    FROM invoice_line il\n",
    "    LEFT JOIN track t ON t.track_id = il.track_id\n",
    "    LEFT JOIN genre g ON g.genre_id = t.genre_id\n",
    "    GROUP BY 1\n",
    "    )\n",
    "\n",
    "SELECT\n",
    "    g.name Genre,\n",
    "    COUNT(DISTINCT t.track_id) Tracks,\n",
    "    100*CAST(COUNT(DISTINCT t.track_id) AS FLOAT) / CAST((SELECT COUNT(DISTINCT track_id) FROM track) AS FLOAT) Percent_tracks,\n",
    "    gs.Sales,\n",
    "    100*gs.Sales / (SELECT TOTAL(total) FROM invoice) Percent_sales\n",
    "FROM genre g\n",
    "INNER JOIN track t ON t.genre_id = g.genre_id\n",
    "INNER JOIN genre_sales gs ON gs.Genre = g.name\n",
    "GROUP BY 1\n",
    "ORDER BY 4 ASC\n",
    "    \n",
    "'''\n",
    "\n",
    "df2 = run_query(q8)\n",
    "\n",
    "genre_tracks_sales = df2[['Genre', 'Percent_tracks', 'Percent_sales']].copy()\n",
    "\n",
    "y = np.arange(len(genre_tracks_sales['Genre']))\n",
    "width = 0.35\n",
    "\n",
    "plt.barh(y - width/2, genre_tracks_sales['Percent_tracks'], width, label='Tracks')\n",
    "plt.barh(y + width/2, genre_tracks_sales['Percent_sales'], width, label='Sales')\n",
    "\n",
    "plt.xlabel('Percent')\n",
    "plt.title('Tracks and Sales versus Genre')\n",
    "plt.yticks(y, genre_tracks_sales['Genre'])\n",
    "plt.legend(frameon=False)\n",
    "plt.gca().spines['top'].set_visible(False)\n",
    "plt.gca().spines['right'].set_visible(False)\n",
    "plt.tick_params(left=False)\n",
    "\n",
    "plt.savefig('track_sales.jpg')\n",
    "plt.show()\n"
   ]
  },
  {
   "cell_type": "markdown",
   "metadata": {},
   "source": [
    "The range of tracks in the store mostly reflects the popularity of sales. I recommend adjusting the number of available tracks under `Latin`, `R&B/Soul`, `Blues`, and `Jazz`  genres to match the observed trends in sales."
   ]
  },
  {
   "cell_type": "markdown",
   "metadata": {},
   "source": [
    "## Media Type on Sales Popularity"
   ]
  },
  {
   "cell_type": "code",
   "execution_count": 10,
   "metadata": {},
   "outputs": [
    {
     "data": {
      "text/html": [
       "<div>\n",
       "<style scoped>\n",
       "    .dataframe tbody tr th:only-of-type {\n",
       "        vertical-align: middle;\n",
       "    }\n",
       "\n",
       "    .dataframe tbody tr th {\n",
       "        vertical-align: top;\n",
       "    }\n",
       "\n",
       "    .dataframe thead th {\n",
       "        text-align: right;\n",
       "    }\n",
       "</style>\n",
       "<table border=\"1\" class=\"dataframe\">\n",
       "  <thead>\n",
       "    <tr style=\"text-align: right;\">\n",
       "      <th></th>\n",
       "      <th>Media_type</th>\n",
       "      <th>Total_sales</th>\n",
       "      <th>Percent_total_sales</th>\n",
       "    </tr>\n",
       "  </thead>\n",
       "  <tbody>\n",
       "    <tr>\n",
       "      <th>0</th>\n",
       "      <td>Non-protected</td>\n",
       "      <td>4274.82</td>\n",
       "      <td>90.8</td>\n",
       "    </tr>\n",
       "    <tr>\n",
       "      <th>1</th>\n",
       "      <td>Protected</td>\n",
       "      <td>434.61</td>\n",
       "      <td>9.2</td>\n",
       "    </tr>\n",
       "  </tbody>\n",
       "</table>\n",
       "</div>"
      ],
      "text/plain": [
       "      Media_type  Total_sales  Percent_total_sales\n",
       "0  Non-protected      4274.82                 90.8\n",
       "1      Protected       434.61                  9.2"
      ]
     },
     "execution_count": 10,
     "metadata": {},
     "output_type": "execute_result"
    }
   ],
   "source": [
    "q9 = '''\n",
    "\n",
    "SELECT\n",
    "    Media_type,\n",
    "    TOTAL(unit_price) Total_sales,\n",
    "    ROUND(100*TOTAL(unit_price) / (SELECT TOTAL(unit_price) FROM invoice_line), 1) Percent_total_sales\n",
    "FROM (\n",
    "    SELECT\n",
    "        il.invoice_line_id,\n",
    "        il.invoice_id,\n",
    "        il.track_id,\n",
    "        il.unit_price,\n",
    "        mt.name,\n",
    "        CASE\n",
    "            WHEN mt.name = (SELECT name FROM media_type WHERE name LIKE \"%Protected%\") THEN \"Protected\"\n",
    "            ELSE \"Non-protected\"\n",
    "            END\n",
    "        AS Media_type\n",
    "    FROM invoice_line il\n",
    "    LEFT JOIN track t ON t.track_id = il.track_id\n",
    "    INNER JOIN media_type mt ON mt.media_type_id = t.media_type_id\n",
    "    )\n",
    "GROUP BY 1\n",
    "\n",
    "'''\n",
    "run_query(q9)"
   ]
  },
  {
   "cell_type": "markdown",
   "metadata": {},
   "source": [
    "Tracks under non-protected media types account for 90% of the total sales. "
   ]
  },
  {
   "cell_type": "markdown",
   "metadata": {},
   "source": [
    "## Conclusion"
   ]
  },
  {
   "cell_type": "markdown",
   "metadata": {},
   "source": [
    "I conclude the following from my analysis of the Chinook database:\n",
    "\n",
    "* `Rock`,  `Alternative & Punk`, `Metal`, and `R&B/Soul` are among the top-selling music genres in the USA. The addition of new albums and tracks from American artists under these genres could improve the sales performance of the store.\n",
    "* I determined the sales performance of the shop's employees. The sales performance of employees seems to depend on their hiring dates. \n",
    "* Czech Republic, United Kingdom, and India show opportunities for growth due to high average values of sales (dollars per customer) and above-average order values (dollars per invoice). \n",
    "* About 20% of total sales come from whole album purchases. The store should continue to selling individual tracks and whole albums. \n",
    "* The artist `Iron Maiden` is mostly used in the playlists.\n",
    "* About half of the available tracks in the store remain unpurchased. \n",
    "* The range of tracks in the store mostly reflects the sales performance. I suggest revising the number of tracks classified under `Latin`, `R&B/Soul`, `Blues`, and `Jazz` genres following the observed trends in sales. \n",
    "* Tracks categorized under non-protected media types significantly sell better than protected types. "
   ]
  }
 ],
 "metadata": {
  "kernelspec": {
   "display_name": "Python 3",
   "language": "python",
   "name": "python3"
  },
  "language_info": {
   "codemirror_mode": {
    "name": "ipython",
    "version": 3
   },
   "file_extension": ".py",
   "mimetype": "text/x-python",
   "name": "python",
   "nbconvert_exporter": "python",
   "pygments_lexer": "ipython3",
   "version": "3.7.3"
  }
 },
 "nbformat": 4,
 "nbformat_minor": 2
}
